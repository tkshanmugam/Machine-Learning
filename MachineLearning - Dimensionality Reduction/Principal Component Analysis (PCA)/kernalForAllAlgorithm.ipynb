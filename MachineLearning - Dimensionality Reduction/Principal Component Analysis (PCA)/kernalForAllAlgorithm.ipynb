{
 "cells": [
  {
   "cell_type": "code",
   "execution_count": 1,
   "id": "fa222b34-ec6a-4fca-8648-ba73ed8bbcb0",
   "metadata": {},
   "outputs": [],
   "source": [
    "# Importing the libraries\n",
    "import numpy as np\n",
    "import matplotlib.pyplot as plt\n",
    "import pandas as pd\n",
    "from sklearn.preprocessing import StandardScaler\n",
    "from sklearn.decomposition import KernelPCA"
   ]
  },
  {
   "cell_type": "code",
   "execution_count": 2,
   "id": "40b358ef-ac6b-4736-af93-c4c5584814c4",
   "metadata": {},
   "outputs": [],
   "source": [
    "def split_scalar(indep_X,dep_Y):\n",
    "    X_train, X_test, y_train, y_test = train_test_split(indep_X, dep_Y, test_size = 0.25, random_state = 0)"
   ]
  },
  {
   "cell_type": "code",
   "execution_count": null,
   "id": "aa2901b1-f3dc-409c-b3c0-6489229e7868",
   "metadata": {},
   "outputs": [],
   "source": [
    "# Feature Scaling\n",
    "def split_scalar(X_train,X_test):\n",
    "    sc = StandardScaler()\n",
    "    X_train = sc.fit_transform(X_train)\n",
    "    X_test = sc.transform(X_test)"
   ]
  },
  {
   "cell_type": "code",
   "execution_count": null,
   "id": "dbde5c5b-a24b-4166-a195-763fc041231c",
   "metadata": {},
   "outputs": [],
   "source": [
    "# Applying Kernel PCA\n",
    "def kernalPCA(X_train, X_test):\n",
    "    kpca = KernelPCA(n_components = 2, kernel = 'rbf')\n",
    "    X_train = kpca.fit_transform(X_train)\n",
    "    X_test = kpca.transform(X_test)"
   ]
  }
 ],
 "metadata": {
  "kernelspec": {
   "display_name": "Python 3 (ipykernel)",
   "language": "python",
   "name": "python3"
  },
  "language_info": {
   "codemirror_mode": {
    "name": "ipython",
    "version": 3
   },
   "file_extension": ".py",
   "mimetype": "text/x-python",
   "name": "python",
   "nbconvert_exporter": "python",
   "pygments_lexer": "ipython3",
   "version": "3.11.5"
  }
 },
 "nbformat": 4,
 "nbformat_minor": 5
}
