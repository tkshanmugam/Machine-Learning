{
 "cells": [
  {
   "cell_type": "code",
   "execution_count": 6,
   "id": "0853cf41-5ba8-46b1-ad1f-518107712bd0",
   "metadata": {},
   "outputs": [
    {
     "name": "stdout",
     "output_type": "stream",
     "text": [
      "Collecting PyAudio\n",
      "  Downloading PyAudio-0.2.14-cp311-cp311-win_amd64.whl.metadata (2.7 kB)\n",
      "Downloading PyAudio-0.2.14-cp311-cp311-win_amd64.whl (164 kB)\n",
      "   ---------------------------------------- 0.0/164.1 kB ? eta -:--:--\n",
      "   -- ------------------------------------- 10.2/164.1 kB ? eta -:--:--\n",
      "   ------- ------------------------------- 30.7/164.1 kB 435.7 kB/s eta 0:00:01\n",
      "   ----------------- --------------------- 71.7/164.1 kB 653.6 kB/s eta 0:00:01\n",
      "   --------------------------------- ---- 143.4/164.1 kB 944.1 kB/s eta 0:00:01\n",
      "   -------------------------------------  163.8/164.1 kB 978.3 kB/s eta 0:00:01\n",
      "   -------------------------------------- 164.1/164.1 kB 702.4 kB/s eta 0:00:00\n",
      "Installing collected packages: PyAudio\n",
      "Successfully installed PyAudio-0.2.14\n"
     ]
    }
   ],
   "source": [
    "!pip install PyAudio"
   ]
  },
  {
   "cell_type": "code",
   "execution_count": 4,
   "id": "b042580b-8578-4f91-b03e-d96da36b46d9",
   "metadata": {},
   "outputs": [
    {
     "name": "stdout",
     "output_type": "stream",
     "text": [
      "Converting speech to text...\n",
      "Text:  this they'll smell of old we're lingers it takes heat to bring out the odor they called it restores health and zest case all the gold he's fine with him tacos all pastore my favorite he says full food is the hot cross bonn\n"
     ]
    }
   ],
   "source": [
    "import speech_recognition as sr\n",
    "\n",
    "def speech_to_text(audio_path):\n",
    "    # Initialize the recognizer\n",
    "    recognizer = sr.Recognizer()\n",
    "\n",
    "    # Load the audio file\n",
    "    with sr.AudioFile(audio_path) as source:\n",
    "        # Adjust for ambient noise\n",
    "        recognizer.adjust_for_ambient_noise(source)\n",
    "        \n",
    "        print(\"Converting speech to text...\")\n",
    "\n",
    "        # Record the audio\n",
    "        audio = recognizer.record(source)\n",
    "\n",
    "        try:\n",
    "            # Use Sphinx to convert speech to text\n",
    "            text = recognizer.recognize_sphinx(audio)\n",
    "            print(\"Text: \", text)\n",
    "        except sr.UnknownValueError:\n",
    "            print(\"Speech Recognition could not understand the audio.\")\n",
    "        except sr.RequestError as e:\n",
    "            print(\"Sphinx error; {0}\".format(e))\n",
    "\n",
    "# Replace 'your_audio_file.wav' with the path to your audio file\n",
    "audio_path = 'harvard.wav'\n",
    "speech_to_text(audio_path)\n"
   ]
  },
  {
   "cell_type": "code",
   "execution_count": 27,
   "id": "6da4c3af-2ede-4809-8ef9-b09f718a0ec1",
   "metadata": {},
   "outputs": [
    {
     "name": "stdout",
     "output_type": "stream",
     "text": [
      "Say something:\n",
      "You said: chicken biryani one plate omelette on plate grill chicken full one plate gobi manchurian one play omelette 1 plate Chicken Manchurian one play \n",
      "\n"
     ]
    }
   ],
   "source": [
    "import speech_recognition as sr\n",
    "\n",
    "def speech_to_text():\n",
    "    # Initialize the recognizer\n",
    "    recognizer = sr.Recognizer()\n",
    "\n",
    "    # Use the default microphone as the audio source\n",
    "    with sr.Microphone() as source:\n",
    "        print(\"Say something:\")\n",
    "        audio = recognizer.listen(source, timeout=5)  # Adjust timeout as needed\n",
    "\n",
    "    try:\n",
    "        # Use Google Web Speech API to convert speech to text\n",
    "        text = recognizer.recognize_google(audio)\n",
    "        print(\"You said:\", text, \"\\n\")\n",
    "    except sr.UnknownValueError:\n",
    "        print(\"Could not understand audio\")\n",
    "    except sr.RequestError as e:\n",
    "        print(f\"Error making the request; {e}\")\n",
    "\n",
    "if __name__ == \"__main__\":\n",
    "    speech_to_text()\n"
   ]
  },
  {
   "cell_type": "code",
   "execution_count": null,
   "id": "ac7f6490-9a54-4874-b1f2-96085d46157e",
   "metadata": {},
   "outputs": [],
   "source": []
  },
  {
   "cell_type": "code",
   "execution_count": null,
   "id": "02d02c10-ab3f-4a2c-8a1e-72c3e404b6c7",
   "metadata": {},
   "outputs": [],
   "source": []
  },
  {
   "cell_type": "code",
   "execution_count": null,
   "id": "4d289b98-dc39-46ae-97cd-f681a7a19ebf",
   "metadata": {},
   "outputs": [],
   "source": []
  }
 ],
 "metadata": {
  "kernelspec": {
   "display_name": "Python 3 (ipykernel)",
   "language": "python",
   "name": "python3"
  },
  "language_info": {
   "codemirror_mode": {
    "name": "ipython",
    "version": 3
   },
   "file_extension": ".py",
   "mimetype": "text/x-python",
   "name": "python",
   "nbconvert_exporter": "python",
   "pygments_lexer": "ipython3",
   "version": "3.11.5"
  }
 },
 "nbformat": 4,
 "nbformat_minor": 5
}
