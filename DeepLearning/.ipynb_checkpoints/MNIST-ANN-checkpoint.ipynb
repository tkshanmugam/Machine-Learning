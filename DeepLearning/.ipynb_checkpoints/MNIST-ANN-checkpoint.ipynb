{
 "cells": [
  {
   "cell_type": "code",
   "execution_count": null,
   "id": "187efd0a-accc-4a25-8d6a-0c4064506fc8",
   "metadata": {
    "scrolled": true
   },
   "outputs": [],
   "source": [
    "import tensorflow as tf\n",
    "from tensorflow.keras import layers, models\n",
    "import numpy as np\n",
    "\n",
    "# Load the MNIST dataset\n",
    "mnist = tf.keras.datasets.mnist\n",
    "(x_train, y_train), (x_test, y_test) = mnist.load_data()\n",
    "\n",
    "# Normalize the data\n",
    "x_train, x_test = x_train / 255.0, x_test / 255.0\n",
    "\n",
    "# Build the ANN model\n",
    "model = models.Sequential([\n",
    "    layers.Flatten(input_shape=(28, 28)),  # Flatten the 28x28 images into 1D vectors\n",
    "    layers.Dense(128, activation='relu'),  # Hidden layer with 128 neurons and ReLU activation\n",
    "    layers.Dense(10, activation='softmax')  # Output layer with 10 neurons (one for each digit) and softmax activation\n",
    "])\n",
    "\n",
    "# Compile the model\n",
    "model.compile(optimizer='adam',\n",
    "              loss='sparse_categorical_crossentropy',\n",
    "              metrics=['accuracy'])\n",
    "\n",
    "# Train the model\n",
    "model.fit(x_train, y_train, epochs=5)\n",
    "\n",
    "# Evaluate the model\n",
    "test_loss, test_acc = model.evaluate(x_test, y_test)\n",
    "\n",
    "print(f'Test accuracy: {test_acc}')\n"
   ]
  },
  {
   "cell_type": "code",
   "execution_count": null,
   "id": "504fe683-cdc9-4bc3-a758-905cb0e3e964",
   "metadata": {},
   "outputs": [],
   "source": [
    "#Explanation:\n",
    "#Import Libraries: Ensure you are importing from tensorflow and tensorflow.keras.\n",
    "#Load Dataset: Use the MNIST dataset provided by tensorflow.keras.datasets.\n",
    "#Normalize Data: Normalize the pixel values to be between 0 and 1.\n",
    "#Build Model:\n",
    "#Flatten Layer: Converts each 28x28 image into a 784-dimensional vector.\n",
    "#Dense Hidden Layer: A fully connected layer with 128 neurons and ReLU activation function.\n",
    "#Dense Output Layer: A fully connected layer with 10 neurons (one for each digit) and softmax activation function to output probabilities.\n",
    "#Compile Model: Specify the optimizer (Adam), loss function (sparse categorical cross-entropy), and evaluation metric (accuracy).\n",
    "#Train Model: Train the model on the training data for 5 epochs.\n",
    "#Evaluate Model: Evaluate the model on the test data and print the test accuracy."
   ]
  }
 ],
 "metadata": {
  "kernelspec": {
   "display_name": "Python 3 (ipykernel)",
   "language": "python",
   "name": "python3"
  },
  "language_info": {
   "codemirror_mode": {
    "name": "ipython",
    "version": 3
   },
   "file_extension": ".py",
   "mimetype": "text/x-python",
   "name": "python",
   "nbconvert_exporter": "python",
   "pygments_lexer": "ipython3",
   "version": "3.10.14"
  }
 },
 "nbformat": 4,
 "nbformat_minor": 5
}
