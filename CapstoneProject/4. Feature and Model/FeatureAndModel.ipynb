{
 "cells": [
  {
   "cell_type": "code",
   "execution_count": 26,
   "id": "3c3b965d-f9db-40a3-8629-9e21c6ae1344",
   "metadata": {},
   "outputs": [],
   "source": [
    "import numpy as np # linear algebra\n",
    "import pandas as pd # data processing, CSV file I/O (e.g. pd.read_csv)\n",
    "import plotly.express as px\n",
    "import plotly.graph_objects as go\n",
    "import matplotlib.pyplot as plt\n",
    "import seaborn as sns\n",
    "from sklearn.model_selection import train_test_split\n",
    "from sklearn.ensemble import RandomForestClassifier\n",
    "from sklearn.preprocessing import LabelEncoder,StandardScaler,LabelBinarizer,MinMaxScaler, PolynomialFeatures\n",
    "from sklearn.feature_selection import SelectKBest, f_classif\n",
    "from sklearn.model_selection import train_test_split\n",
    "from sklearn.ensemble import RandomForestClassifier\n",
    "from sklearn.metrics import accuracy_score\n",
    "from sklearn.neighbors import KNeighborsClassifier\n",
    "from sklearn.metrics import classification_report,confusion_matrix,accuracy_score,f1_score,roc_auc_score\n",
    "from sklearn.linear_model import LogisticRegression\n",
    "from sklearn.svm import SVC"
   ]
  },
  {
   "cell_type": "code",
   "execution_count": 27,
   "id": "dcbd794a-ed9a-41ac-912d-d01cdef52b07",
   "metadata": {},
   "outputs": [
    {
     "data": {
      "text/html": [
       "<div>\n",
       "<style scoped>\n",
       "    .dataframe tbody tr th:only-of-type {\n",
       "        vertical-align: middle;\n",
       "    }\n",
       "\n",
       "    .dataframe tbody tr th {\n",
       "        vertical-align: top;\n",
       "    }\n",
       "\n",
       "    .dataframe thead th {\n",
       "        text-align: right;\n",
       "    }\n",
       "</style>\n",
       "<table border=\"1\" class=\"dataframe\">\n",
       "  <thead>\n",
       "    <tr style=\"text-align: right;\">\n",
       "      <th></th>\n",
       "      <th>Age</th>\n",
       "      <th>Gender</th>\n",
       "      <th>Marital Status</th>\n",
       "      <th>Occupation</th>\n",
       "      <th>Monthly Income</th>\n",
       "      <th>Educational Qualifications</th>\n",
       "      <th>Family size</th>\n",
       "      <th>latitude</th>\n",
       "      <th>longitude</th>\n",
       "      <th>Pin code</th>\n",
       "      <th>Output</th>\n",
       "      <th>Feedback</th>\n",
       "    </tr>\n",
       "  </thead>\n",
       "  <tbody>\n",
       "    <tr>\n",
       "      <th>0</th>\n",
       "      <td>20</td>\n",
       "      <td>Female</td>\n",
       "      <td>Single</td>\n",
       "      <td>Student</td>\n",
       "      <td>No Income</td>\n",
       "      <td>Post Graduate</td>\n",
       "      <td>4</td>\n",
       "      <td>12.9766</td>\n",
       "      <td>77.5993</td>\n",
       "      <td>560001</td>\n",
       "      <td>Yes</td>\n",
       "      <td>Positive</td>\n",
       "    </tr>\n",
       "    <tr>\n",
       "      <th>1</th>\n",
       "      <td>24</td>\n",
       "      <td>Female</td>\n",
       "      <td>Single</td>\n",
       "      <td>Student</td>\n",
       "      <td>Below Rs.10000</td>\n",
       "      <td>Graduate</td>\n",
       "      <td>3</td>\n",
       "      <td>12.9770</td>\n",
       "      <td>77.5773</td>\n",
       "      <td>560009</td>\n",
       "      <td>Yes</td>\n",
       "      <td>Positive</td>\n",
       "    </tr>\n",
       "    <tr>\n",
       "      <th>2</th>\n",
       "      <td>22</td>\n",
       "      <td>Male</td>\n",
       "      <td>Single</td>\n",
       "      <td>Student</td>\n",
       "      <td>Below Rs.10000</td>\n",
       "      <td>Post Graduate</td>\n",
       "      <td>3</td>\n",
       "      <td>12.9551</td>\n",
       "      <td>77.6593</td>\n",
       "      <td>560017</td>\n",
       "      <td>Yes</td>\n",
       "      <td>Negative</td>\n",
       "    </tr>\n",
       "    <tr>\n",
       "      <th>3</th>\n",
       "      <td>22</td>\n",
       "      <td>Female</td>\n",
       "      <td>Single</td>\n",
       "      <td>Student</td>\n",
       "      <td>No Income</td>\n",
       "      <td>Graduate</td>\n",
       "      <td>6</td>\n",
       "      <td>12.9473</td>\n",
       "      <td>77.5616</td>\n",
       "      <td>560019</td>\n",
       "      <td>Yes</td>\n",
       "      <td>Positive</td>\n",
       "    </tr>\n",
       "    <tr>\n",
       "      <th>4</th>\n",
       "      <td>22</td>\n",
       "      <td>Male</td>\n",
       "      <td>Single</td>\n",
       "      <td>Student</td>\n",
       "      <td>Below Rs.10000</td>\n",
       "      <td>Post Graduate</td>\n",
       "      <td>4</td>\n",
       "      <td>12.9850</td>\n",
       "      <td>77.5533</td>\n",
       "      <td>560010</td>\n",
       "      <td>Yes</td>\n",
       "      <td>Positive</td>\n",
       "    </tr>\n",
       "  </tbody>\n",
       "</table>\n",
       "</div>"
      ],
      "text/plain": [
       "   Age  Gender Marital Status Occupation  Monthly Income  \\\n",
       "0   20  Female         Single    Student       No Income   \n",
       "1   24  Female         Single    Student  Below Rs.10000   \n",
       "2   22    Male         Single    Student  Below Rs.10000   \n",
       "3   22  Female         Single    Student       No Income   \n",
       "4   22    Male         Single    Student  Below Rs.10000   \n",
       "\n",
       "  Educational Qualifications  Family size  latitude  longitude  Pin code  \\\n",
       "0              Post Graduate            4   12.9766    77.5993    560001   \n",
       "1                   Graduate            3   12.9770    77.5773    560009   \n",
       "2              Post Graduate            3   12.9551    77.6593    560017   \n",
       "3                   Graduate            6   12.9473    77.5616    560019   \n",
       "4              Post Graduate            4   12.9850    77.5533    560010   \n",
       "\n",
       "  Output   Feedback  \n",
       "0    Yes   Positive  \n",
       "1    Yes   Positive  \n",
       "2    Yes  Negative   \n",
       "3    Yes   Positive  \n",
       "4    Yes   Positive  "
      ]
     },
     "execution_count": 27,
     "metadata": {},
     "output_type": "execute_result"
    }
   ],
   "source": [
    "df = pd.read_csv('../2.DataPreProcessing/preprocessed_online_food_dataset.csv')\n",
    "df.head()"
   ]
  },
  {
   "cell_type": "code",
   "execution_count": 28,
   "id": "5950b250-e0f5-4dc7-9774-e7f3bf9c6ff3",
   "metadata": {},
   "outputs": [],
   "source": [
    "#Converting all categorical to numerical values"
   ]
  },
  {
   "cell_type": "code",
   "execution_count": 29,
   "id": "8acdd9fe-deb8-4f2c-b0ed-1db5cecc1b4d",
   "metadata": {},
   "outputs": [
    {
     "data": {
      "text/plain": [
       "Age                             int64\n",
       "Gender                         object\n",
       "Marital Status                 object\n",
       "Occupation                     object\n",
       "Monthly Income                 object\n",
       "Educational Qualifications     object\n",
       "Family size                     int64\n",
       "latitude                      float64\n",
       "longitude                     float64\n",
       "Pin code                        int64\n",
       "Output                         object\n",
       "Feedback                       object\n",
       "dtype: object"
      ]
     },
     "execution_count": 29,
     "metadata": {},
     "output_type": "execute_result"
    }
   ],
   "source": [
    "df.dtypes"
   ]
  },
  {
   "cell_type": "code",
   "execution_count": 30,
   "id": "90a9fb6b-0201-4863-97f5-51cf97e85571",
   "metadata": {},
   "outputs": [
    {
     "name": "stdout",
     "output_type": "stream",
     "text": [
      "Gender Counts:  Gender\n",
      "Male      222\n",
      "Female    166\n",
      "Name: count, dtype: int64\n",
      "-----------\n",
      "Marital Status Counts:  Marital Status\n",
      "Single               268\n",
      "Married              108\n",
      "Prefer not to say     12\n",
      "Name: count, dtype: int64\n",
      "-----------\n",
      "Occupation counts:  Occupation\n",
      "Student           207\n",
      "Employee          118\n",
      "Self Employeed     54\n",
      "House wife          9\n",
      "Name: count, dtype: int64\n",
      "-----------\n",
      "Monthly Income counts:  Monthly Income\n",
      "No Income          187\n",
      "25001 to 50000      69\n",
      "More than 50000     62\n",
      "10001 to 25000      45\n",
      "Below Rs.10000      25\n",
      "Name: count, dtype: int64\n",
      "-----------\n",
      "Educational Qualifications counts:  Educational Qualifications\n",
      "Graduate         177\n",
      "Post Graduate    174\n",
      "Ph.D              23\n",
      "School            12\n",
      "Uneducated         2\n",
      "Name: count, dtype: int64\n",
      "-----------\n",
      "Feedback counts:  Feedback\n",
      "Positive     317\n",
      "Negative      71\n",
      "Name: count, dtype: int64\n"
     ]
    }
   ],
   "source": [
    "print('Gender Counts: ', df['Gender'].value_counts())\n",
    "print('-----------')\n",
    "print('Marital Status Counts: ', df['Marital Status'].value_counts())\n",
    "print('-----------')\n",
    "print('Occupation counts: ', df['Occupation'].value_counts())\n",
    "print('-----------')\n",
    "print('Monthly Income counts: ', df['Monthly Income'].value_counts())\n",
    "print('-----------')\n",
    "print('Educational Qualifications counts: ', df['Educational Qualifications'].value_counts())\n",
    "print('-----------')\n",
    "print('Feedback counts: ', df['Feedback'].value_counts())"
   ]
  },
  {
   "cell_type": "code",
   "execution_count": 32,
   "id": "46908d91-e975-46e7-ab55-a588b18ac36e",
   "metadata": {},
   "outputs": [
    {
     "data": {
      "text/plain": [
       "array(['Female', 'Male'], dtype=object)"
      ]
     },
     "execution_count": 32,
     "metadata": {},
     "output_type": "execute_result"
    }
   ],
   "source": [
    "df['Gender'].unique()"
   ]
  },
  {
   "cell_type": "code",
   "execution_count": 6,
   "id": "9f975cad-5230-44db-a3f7-dd4299b5384b",
   "metadata": {},
   "outputs": [],
   "source": [
    "df['Gender'] = df[\"Gender\"].map({\"Male\": 1, \"Female\": 0})\n",
    "df['Marital Status'] = df['Marital Status'].map({'Prefer not to say': 0, 'Single': 1, 'Married': 2})\n",
    "df['Occupation'] = df['Occupation'].map({\"Student\": 1, \"Employee\": 2, \"Self Employeed\": 3, \"House wife\": 4})\n",
    "df[\"Educational Qualifications\"] = df[\"Educational Qualifications\"].map({\"Graduate\": 1, \"Post Graduate\": 2, \"Ph.D\": 3, \"School\": 4, \"Uneducated\": 5})\n",
    "df[\"Monthly Income\"] = df[\"Monthly Income\"].map({\"No Income\": 0, \"25001 to 50000\": 5000, \"More than 50000\": 7000, \"10001 to 25000\": 25000, \"Below Rs.10000\": 10000})\n",
    "df[\"Feedback\"] = df[\"Feedback\"].map({\"Positive\": 1, \"Negative \": 0})"
   ]
  },
  {
   "cell_type": "code",
   "execution_count": 7,
   "id": "54b3d216-4e4a-4309-8f92-fdfb2c957507",
   "metadata": {},
   "outputs": [
    {
     "data": {
      "text/html": [
       "<div>\n",
       "<style scoped>\n",
       "    .dataframe tbody tr th:only-of-type {\n",
       "        vertical-align: middle;\n",
       "    }\n",
       "\n",
       "    .dataframe tbody tr th {\n",
       "        vertical-align: top;\n",
       "    }\n",
       "\n",
       "    .dataframe thead th {\n",
       "        text-align: right;\n",
       "    }\n",
       "</style>\n",
       "<table border=\"1\" class=\"dataframe\">\n",
       "  <thead>\n",
       "    <tr style=\"text-align: right;\">\n",
       "      <th></th>\n",
       "      <th>Age</th>\n",
       "      <th>Gender</th>\n",
       "      <th>Marital Status</th>\n",
       "      <th>Occupation</th>\n",
       "      <th>Monthly Income</th>\n",
       "      <th>Educational Qualifications</th>\n",
       "      <th>Family size</th>\n",
       "      <th>latitude</th>\n",
       "      <th>longitude</th>\n",
       "      <th>Pin code</th>\n",
       "      <th>Output</th>\n",
       "      <th>Feedback</th>\n",
       "    </tr>\n",
       "  </thead>\n",
       "  <tbody>\n",
       "    <tr>\n",
       "      <th>0</th>\n",
       "      <td>20</td>\n",
       "      <td>0</td>\n",
       "      <td>1</td>\n",
       "      <td>1</td>\n",
       "      <td>0</td>\n",
       "      <td>2</td>\n",
       "      <td>4</td>\n",
       "      <td>12.9766</td>\n",
       "      <td>77.5993</td>\n",
       "      <td>560001</td>\n",
       "      <td>Yes</td>\n",
       "      <td>1</td>\n",
       "    </tr>\n",
       "    <tr>\n",
       "      <th>1</th>\n",
       "      <td>24</td>\n",
       "      <td>0</td>\n",
       "      <td>1</td>\n",
       "      <td>1</td>\n",
       "      <td>10000</td>\n",
       "      <td>1</td>\n",
       "      <td>3</td>\n",
       "      <td>12.9770</td>\n",
       "      <td>77.5773</td>\n",
       "      <td>560009</td>\n",
       "      <td>Yes</td>\n",
       "      <td>1</td>\n",
       "    </tr>\n",
       "    <tr>\n",
       "      <th>2</th>\n",
       "      <td>22</td>\n",
       "      <td>1</td>\n",
       "      <td>1</td>\n",
       "      <td>1</td>\n",
       "      <td>10000</td>\n",
       "      <td>2</td>\n",
       "      <td>3</td>\n",
       "      <td>12.9551</td>\n",
       "      <td>77.6593</td>\n",
       "      <td>560017</td>\n",
       "      <td>Yes</td>\n",
       "      <td>0</td>\n",
       "    </tr>\n",
       "    <tr>\n",
       "      <th>3</th>\n",
       "      <td>22</td>\n",
       "      <td>0</td>\n",
       "      <td>1</td>\n",
       "      <td>1</td>\n",
       "      <td>0</td>\n",
       "      <td>1</td>\n",
       "      <td>6</td>\n",
       "      <td>12.9473</td>\n",
       "      <td>77.5616</td>\n",
       "      <td>560019</td>\n",
       "      <td>Yes</td>\n",
       "      <td>1</td>\n",
       "    </tr>\n",
       "    <tr>\n",
       "      <th>4</th>\n",
       "      <td>22</td>\n",
       "      <td>1</td>\n",
       "      <td>1</td>\n",
       "      <td>1</td>\n",
       "      <td>10000</td>\n",
       "      <td>2</td>\n",
       "      <td>4</td>\n",
       "      <td>12.9850</td>\n",
       "      <td>77.5533</td>\n",
       "      <td>560010</td>\n",
       "      <td>Yes</td>\n",
       "      <td>1</td>\n",
       "    </tr>\n",
       "  </tbody>\n",
       "</table>\n",
       "</div>"
      ],
      "text/plain": [
       "   Age  Gender  Marital Status  Occupation  Monthly Income  \\\n",
       "0   20       0               1           1               0   \n",
       "1   24       0               1           1           10000   \n",
       "2   22       1               1           1           10000   \n",
       "3   22       0               1           1               0   \n",
       "4   22       1               1           1           10000   \n",
       "\n",
       "   Educational Qualifications  Family size  latitude  longitude  Pin code  \\\n",
       "0                           2            4   12.9766    77.5993    560001   \n",
       "1                           1            3   12.9770    77.5773    560009   \n",
       "2                           2            3   12.9551    77.6593    560017   \n",
       "3                           1            6   12.9473    77.5616    560019   \n",
       "4                           2            4   12.9850    77.5533    560010   \n",
       "\n",
       "  Output  Feedback  \n",
       "0    Yes         1  \n",
       "1    Yes         1  \n",
       "2    Yes         0  \n",
       "3    Yes         1  \n",
       "4    Yes         1  "
      ]
     },
     "execution_count": 7,
     "metadata": {},
     "output_type": "execute_result"
    }
   ],
   "source": [
    "df.head()"
   ]
  },
  {
   "cell_type": "code",
   "execution_count": 8,
   "id": "056ad5d3-33d5-4d52-b8e2-716653862ae0",
   "metadata": {},
   "outputs": [],
   "source": [
    "#Preparing The Model"
   ]
  },
  {
   "cell_type": "code",
   "execution_count": 9,
   "id": "7fd5f684-7047-4695-bd31-38e247d4caef",
   "metadata": {},
   "outputs": [],
   "source": [
    "X = df.drop(['Output', 'latitude', 'longitude', 'Pin code'], axis=1)\n",
    "y = df['Output']\n",
    "X_train, X_test, y_train, y_test = train_test_split(X, y, test_size=0.3, random_state=42)"
   ]
  },
  {
   "cell_type": "code",
   "execution_count": 10,
   "id": "6b1e7276-5cc7-4769-9818-66c3fcf3a608",
   "metadata": {},
   "outputs": [
    {
     "name": "stdout",
     "output_type": "stream",
     "text": [
      "Accuracy: 0.8974358974358975\n",
      "Accuracy with feature engineering: 0.8547008547008547\n"
     ]
    },
    {
     "name": "stderr",
     "output_type": "stream",
     "text": [
      "C:\\Users\\HP\\anaconda3\\envs\\aiml\\Lib\\site-packages\\sklearn\\feature_selection\\_univariate_selection.py:112: UserWarning: Features [0] are constant.\n",
      "  warnings.warn(\"Features %s are constant.\" % constant_features_idx, UserWarning)\n",
      "C:\\Users\\HP\\anaconda3\\envs\\aiml\\Lib\\site-packages\\sklearn\\feature_selection\\_univariate_selection.py:113: RuntimeWarning: invalid value encountered in divide\n",
      "  f = msb / msw\n"
     ]
    }
   ],
   "source": [
    "# Initialize and train a random forest classifier\n",
    "clf = RandomForestClassifier(n_estimators=100, random_state=42)\n",
    "clf.fit(X_train, y_train)\n",
    "\n",
    "# Make predictions on the test set\n",
    "y_pred = clf.predict(X_test)\n",
    "\n",
    "# Evaluate model performance\n",
    "accuracy = accuracy_score(y_test, y_pred)\n",
    "print(\"Accuracy:\", accuracy)\n",
    "\n",
    "# Feature scaling\n",
    "scaler = StandardScaler()\n",
    "X_train_scaled = scaler.fit_transform(X_train)\n",
    "X_test_scaled = scaler.transform(X_test)\n",
    "\n",
    "# Feature transformation (adding polynomial features)\n",
    "poly = PolynomialFeatures(degree=2)\n",
    "X_train_poly = poly.fit_transform(X_train_scaled)\n",
    "X_test_poly = poly.transform(X_test_scaled)\n",
    "\n",
    "# Feature selection\n",
    "selector = SelectKBest(score_func=f_classif, k=2)\n",
    "X_train_selected = selector.fit_transform(X_train_poly, y_train)\n",
    "X_test_selected = selector.transform(X_test_poly)\n",
    "\n",
    "# Train a new model using the transformed and selected features\n",
    "clf.fit(X_train_selected, y_train)\n",
    "y_pred_selected = clf.predict(X_test_selected)\n",
    "\n",
    "# Evaluate model performance\n",
    "accuracy_selected = accuracy_score(y_test, y_pred_selected)\n",
    "\n",
    "print(\"Accuracy with feature engineering:\", accuracy_selected)"
   ]
  },
  {
   "cell_type": "code",
   "execution_count": 11,
   "id": "641d374a-725e-44ab-b1ea-62f933d8d9a6",
   "metadata": {},
   "outputs": [
    {
     "name": "stdout",
     "output_type": "stream",
     "text": [
      "Model: Logistic Regression\n",
      "              precision    recall  f1-score   support\n",
      "\n",
      "          No       0.63      0.55      0.59        22\n",
      "         Yes       0.90      0.93      0.91        95\n",
      "\n",
      "    accuracy                           0.85       117\n",
      "   macro avg       0.76      0.74      0.75       117\n",
      "weighted avg       0.85      0.85      0.85       117\n",
      " \n",
      "\n",
      "Confusion Matrix:\n",
      "[[12 10]\n",
      " [ 7 88]] \n",
      "\n",
      "Accuracy Score: 0.8547008547008547 \n",
      "\n",
      "F1 Score: 0.911917098445596\n",
      "-------------------------------------------------- \n",
      "\n",
      "Model: Random Forest Classifier\n",
      "              precision    recall  f1-score   support\n",
      "\n",
      "          No       0.81      0.59      0.68        22\n",
      "         Yes       0.91      0.97      0.94        95\n",
      "\n",
      "    accuracy                           0.90       117\n",
      "   macro avg       0.86      0.78      0.81       117\n",
      "weighted avg       0.89      0.90      0.89       117\n",
      " \n",
      "\n",
      "Confusion Matrix:\n",
      "[[13  9]\n",
      " [ 3 92]] \n",
      "\n",
      "Accuracy Score: 0.8974358974358975 \n",
      "\n",
      "F1 Score: 0.9387755102040817\n",
      "-------------------------------------------------- \n",
      "\n",
      "Model: K-Nearest Neighbors Classifie\n",
      "              precision    recall  f1-score   support\n",
      "\n",
      "          No       0.73      0.50      0.59        22\n",
      "         Yes       0.89      0.96      0.92        95\n",
      "\n",
      "    accuracy                           0.87       117\n",
      "   macro avg       0.81      0.73      0.76       117\n",
      "weighted avg       0.86      0.87      0.86       117\n",
      " \n",
      "\n",
      "Confusion Matrix:\n",
      "[[11 11]\n",
      " [ 4 91]] \n",
      "\n",
      "Accuracy Score: 0.8717948717948718 \n",
      "\n"
     ]
    },
    {
     "name": "stderr",
     "output_type": "stream",
     "text": [
      "C:\\Users\\HP\\anaconda3\\envs\\aiml\\Lib\\site-packages\\sklearn\\linear_model\\_logistic.py:460: ConvergenceWarning: lbfgs failed to converge (status=1):\n",
      "STOP: TOTAL NO. of ITERATIONS REACHED LIMIT.\n",
      "\n",
      "Increase the number of iterations (max_iter) or scale the data as shown in:\n",
      "    https://scikit-learn.org/stable/modules/preprocessing.html\n",
      "Please also refer to the documentation for alternative solver options:\n",
      "    https://scikit-learn.org/stable/modules/linear_model.html#logistic-regression\n",
      "  n_iter_i = _check_optimize_result(\n"
     ]
    },
    {
     "name": "stdout",
     "output_type": "stream",
     "text": [
      "F1 Score: 0.9238578680203046\n",
      "-------------------------------------------------- \n",
      "\n",
      "Model: Support Vector Machine\n",
      "              precision    recall  f1-score   support\n",
      "\n",
      "          No       0.00      0.00      0.00        22\n",
      "         Yes       0.81      1.00      0.90        95\n",
      "\n",
      "    accuracy                           0.81       117\n",
      "   macro avg       0.41      0.50      0.45       117\n",
      "weighted avg       0.66      0.81      0.73       117\n",
      " \n",
      "\n",
      "Confusion Matrix:\n",
      "[[ 0 22]\n",
      " [ 0 95]] \n",
      "\n",
      "Accuracy Score: 0.811965811965812 \n",
      "\n",
      "F1 Score: 0.8962264150943396\n",
      "-------------------------------------------------- \n",
      "\n"
     ]
    },
    {
     "name": "stderr",
     "output_type": "stream",
     "text": [
      "C:\\Users\\HP\\anaconda3\\envs\\aiml\\Lib\\site-packages\\sklearn\\metrics\\_classification.py:1471: UndefinedMetricWarning: Precision and F-score are ill-defined and being set to 0.0 in labels with no predicted samples. Use `zero_division` parameter to control this behavior.\n",
      "  _warn_prf(average, modifier, msg_start, len(result))\n",
      "C:\\Users\\HP\\anaconda3\\envs\\aiml\\Lib\\site-packages\\sklearn\\metrics\\_classification.py:1471: UndefinedMetricWarning: Precision and F-score are ill-defined and being set to 0.0 in labels with no predicted samples. Use `zero_division` parameter to control this behavior.\n",
      "  _warn_prf(average, modifier, msg_start, len(result))\n",
      "C:\\Users\\HP\\anaconda3\\envs\\aiml\\Lib\\site-packages\\sklearn\\metrics\\_classification.py:1471: UndefinedMetricWarning: Precision and F-score are ill-defined and being set to 0.0 in labels with no predicted samples. Use `zero_division` parameter to control this behavior.\n",
      "  _warn_prf(average, modifier, msg_start, len(result))\n"
     ]
    }
   ],
   "source": [
    "from sklearn.metrics import roc_curve, auc\n",
    "models = {\n",
    "    'Logistic Regression': LogisticRegression(random_state=42),\n",
    "    'Random Forest Classifier': RandomForestClassifier(random_state=42),\n",
    "    'K-Nearest Neighbors Classifie': KNeighborsClassifier(),\n",
    "    'Support Vector Machine' : SVC()\n",
    "}\n",
    "lb = LabelBinarizer()\n",
    "lb.fit(y_train)\n",
    "for name, model in models.items():\n",
    "    print(f\"Model: {name}\")\n",
    "    \n",
    "    model.fit(X_train, y_train)\n",
    "    y_pred = model.predict(X_test)\n",
    "    print(classification_report(y_test, y_pred),'\\n')\n",
    "    print(\"Confusion Matrix:\")\n",
    "    print(confusion_matrix(y_test, y_pred),'\\n')\n",
    "    \n",
    "    accuracy = accuracy_score(y_test, y_pred)\n",
    "    print(f\"Accuracy Score: {accuracy} \\n\")\n",
    "    \n",
    "    f1 = f1_score(lb.transform(y_test), lb.transform(y_pred), pos_label=1)\n",
    "    print(f\"F1 Score: {f1}\")\n",
    "    \n",
    "   \n",
    "    print(\"-\" * 50,'\\n')"
   ]
  },
  {
   "cell_type": "code",
   "execution_count": 12,
   "id": "8ecda3e0-cc56-4076-97b5-81a915761592",
   "metadata": {},
   "outputs": [],
   "source": [
    "#Grid Search Cross Validation"
   ]
  },
  {
   "cell_type": "code",
   "execution_count": 13,
   "id": "06ba4d93-0d2f-4166-b4e6-4287ad571f6b",
   "metadata": {},
   "outputs": [
    {
     "data": {
      "text/html": [
       "<style>#sk-container-id-1 {color: black;}#sk-container-id-1 pre{padding: 0;}#sk-container-id-1 div.sk-toggleable {background-color: white;}#sk-container-id-1 label.sk-toggleable__label {cursor: pointer;display: block;width: 100%;margin-bottom: 0;padding: 0.3em;box-sizing: border-box;text-align: center;}#sk-container-id-1 label.sk-toggleable__label-arrow:before {content: \"▸\";float: left;margin-right: 0.25em;color: #696969;}#sk-container-id-1 label.sk-toggleable__label-arrow:hover:before {color: black;}#sk-container-id-1 div.sk-estimator:hover label.sk-toggleable__label-arrow:before {color: black;}#sk-container-id-1 div.sk-toggleable__content {max-height: 0;max-width: 0;overflow: hidden;text-align: left;background-color: #f0f8ff;}#sk-container-id-1 div.sk-toggleable__content pre {margin: 0.2em;color: black;border-radius: 0.25em;background-color: #f0f8ff;}#sk-container-id-1 input.sk-toggleable__control:checked~div.sk-toggleable__content {max-height: 200px;max-width: 100%;overflow: auto;}#sk-container-id-1 input.sk-toggleable__control:checked~label.sk-toggleable__label-arrow:before {content: \"▾\";}#sk-container-id-1 div.sk-estimator input.sk-toggleable__control:checked~label.sk-toggleable__label {background-color: #d4ebff;}#sk-container-id-1 div.sk-label input.sk-toggleable__control:checked~label.sk-toggleable__label {background-color: #d4ebff;}#sk-container-id-1 input.sk-hidden--visually {border: 0;clip: rect(1px 1px 1px 1px);clip: rect(1px, 1px, 1px, 1px);height: 1px;margin: -1px;overflow: hidden;padding: 0;position: absolute;width: 1px;}#sk-container-id-1 div.sk-estimator {font-family: monospace;background-color: #f0f8ff;border: 1px dotted black;border-radius: 0.25em;box-sizing: border-box;margin-bottom: 0.5em;}#sk-container-id-1 div.sk-estimator:hover {background-color: #d4ebff;}#sk-container-id-1 div.sk-parallel-item::after {content: \"\";width: 100%;border-bottom: 1px solid gray;flex-grow: 1;}#sk-container-id-1 div.sk-label:hover label.sk-toggleable__label {background-color: #d4ebff;}#sk-container-id-1 div.sk-serial::before {content: \"\";position: absolute;border-left: 1px solid gray;box-sizing: border-box;top: 0;bottom: 0;left: 50%;z-index: 0;}#sk-container-id-1 div.sk-serial {display: flex;flex-direction: column;align-items: center;background-color: white;padding-right: 0.2em;padding-left: 0.2em;position: relative;}#sk-container-id-1 div.sk-item {position: relative;z-index: 1;}#sk-container-id-1 div.sk-parallel {display: flex;align-items: stretch;justify-content: center;background-color: white;position: relative;}#sk-container-id-1 div.sk-item::before, #sk-container-id-1 div.sk-parallel-item::before {content: \"\";position: absolute;border-left: 1px solid gray;box-sizing: border-box;top: 0;bottom: 0;left: 50%;z-index: -1;}#sk-container-id-1 div.sk-parallel-item {display: flex;flex-direction: column;z-index: 1;position: relative;background-color: white;}#sk-container-id-1 div.sk-parallel-item:first-child::after {align-self: flex-end;width: 50%;}#sk-container-id-1 div.sk-parallel-item:last-child::after {align-self: flex-start;width: 50%;}#sk-container-id-1 div.sk-parallel-item:only-child::after {width: 0;}#sk-container-id-1 div.sk-dashed-wrapped {border: 1px dashed gray;margin: 0 0.4em 0.5em 0.4em;box-sizing: border-box;padding-bottom: 0.4em;background-color: white;}#sk-container-id-1 div.sk-label label {font-family: monospace;font-weight: bold;display: inline-block;line-height: 1.2em;}#sk-container-id-1 div.sk-label-container {text-align: center;}#sk-container-id-1 div.sk-container {/* jupyter's `normalize.less` sets `[hidden] { display: none; }` but bootstrap.min.css set `[hidden] { display: none !important; }` so we also need the `!important` here to be able to override the default hidden behavior on the sphinx rendered scikit-learn.org. See: https://github.com/scikit-learn/scikit-learn/issues/21755 */display: inline-block !important;position: relative;}#sk-container-id-1 div.sk-text-repr-fallback {display: none;}</style><div id=\"sk-container-id-1\" class=\"sk-top-container\"><div class=\"sk-text-repr-fallback\"><pre>GridSearchCV(cv=10, estimator=RandomForestClassifier(),\n",
       "             param_grid={&#x27;n_estimators&#x27;: array([1, 2, 3, 4, 5, 6, 7, 8, 9])})</pre><b>In a Jupyter environment, please rerun this cell to show the HTML representation or trust the notebook. <br />On GitHub, the HTML representation is unable to render, please try loading this page with nbviewer.org.</b></div><div class=\"sk-container\" hidden><div class=\"sk-item sk-dashed-wrapped\"><div class=\"sk-label-container\"><div class=\"sk-label sk-toggleable\"><input class=\"sk-toggleable__control sk-hidden--visually\" id=\"sk-estimator-id-1\" type=\"checkbox\" ><label for=\"sk-estimator-id-1\" class=\"sk-toggleable__label sk-toggleable__label-arrow\">GridSearchCV</label><div class=\"sk-toggleable__content\"><pre>GridSearchCV(cv=10, estimator=RandomForestClassifier(),\n",
       "             param_grid={&#x27;n_estimators&#x27;: array([1, 2, 3, 4, 5, 6, 7, 8, 9])})</pre></div></div></div><div class=\"sk-parallel\"><div class=\"sk-parallel-item\"><div class=\"sk-item\"><div class=\"sk-label-container\"><div class=\"sk-label sk-toggleable\"><input class=\"sk-toggleable__control sk-hidden--visually\" id=\"sk-estimator-id-2\" type=\"checkbox\" ><label for=\"sk-estimator-id-2\" class=\"sk-toggleable__label sk-toggleable__label-arrow\">estimator: RandomForestClassifier</label><div class=\"sk-toggleable__content\"><pre>RandomForestClassifier()</pre></div></div></div><div class=\"sk-serial\"><div class=\"sk-item\"><div class=\"sk-estimator sk-toggleable\"><input class=\"sk-toggleable__control sk-hidden--visually\" id=\"sk-estimator-id-3\" type=\"checkbox\" ><label for=\"sk-estimator-id-3\" class=\"sk-toggleable__label sk-toggleable__label-arrow\">RandomForestClassifier</label><div class=\"sk-toggleable__content\"><pre>RandomForestClassifier()</pre></div></div></div></div></div></div></div></div></div></div>"
      ],
      "text/plain": [
       "GridSearchCV(cv=10, estimator=RandomForestClassifier(),\n",
       "             param_grid={'n_estimators': array([1, 2, 3, 4, 5, 6, 7, 8, 9])})"
      ]
     },
     "execution_count": 13,
     "metadata": {},
     "output_type": "execute_result"
    }
   ],
   "source": [
    "from sklearn.model_selection import GridSearchCV\n",
    "grid = {\"n_estimators\":np.arange(1,10)}\n",
    "rf= RandomForestClassifier()\n",
    "rf_cv =  GridSearchCV(rf,grid,cv = 10)\n",
    "rf_cv.fit(X_train,y_train)"
   ]
  },
  {
   "cell_type": "code",
   "execution_count": 14,
   "id": "83c13ee2-d3bb-45f3-89c4-da1c8a6dd141",
   "metadata": {},
   "outputs": [
    {
     "name": "stdout",
     "output_type": "stream",
     "text": [
      "tuned hypermeter Random: {'n_estimators': 8}\n",
      "best accuracy to tuned hypermeter: 0.8892857142857142\n"
     ]
    }
   ],
   "source": [
    "print(\"tuned hypermeter Random:\",rf_cv.best_params_)\n",
    "print(\"best accuracy to tuned hypermeter:\",rf_cv.best_score_)"
   ]
  },
  {
   "cell_type": "code",
   "execution_count": 33,
   "id": "85039ace-278d-40fd-a798-4c02cea7ce22",
   "metadata": {},
   "outputs": [
    {
     "name": "stdout",
     "output_type": "stream",
     "text": [
      "              precision    recall  f1-score   support\n",
      "\n",
      "          No       0.81      0.59      0.68        22\n",
      "         Yes       0.91      0.97      0.94        95\n",
      "\n",
      "    accuracy                           0.90       117\n",
      "   macro avg       0.86      0.78      0.81       117\n",
      "weighted avg       0.89      0.90      0.89       117\n",
      " \n",
      "\n",
      "Confusion Matrix:\n",
      "[[13  9]\n",
      " [ 3 92]] \n",
      "\n",
      "Accuracy Score: 0.8974358974358975 \n",
      "\n",
      "F1 Score: 0.8962264150943396\n",
      "Model saved successfully!\n"
     ]
    }
   ],
   "source": [
    "import pickle\n",
    "from sklearn.metrics import mean_squared_error\n",
    "modelFinal = RandomForestClassifier(random_state=42)\n",
    "modelFinal.fit(X_train, y_train)\n",
    "\n",
    "# Make predictions\n",
    "y_predfinal = modelFinal.predict(X_test)\n",
    "\n",
    "print(classification_report(y_test, y_predfinal),'\\n')\n",
    "print(\"Confusion Matrix:\")\n",
    "print(confusion_matrix(y_test, y_predfinal),'\\n')\n",
    "\n",
    "accuracy = accuracy_score(y_test, y_predfinal)\n",
    "print(f\"Accuracy Score: {accuracy} \\n\")\n",
    "\n",
    "f1 = f1_score(lb.transform(y_test), lb.transform(y_pred), pos_label=1)\n",
    "print(f\"F1 Score: {f1}\")\n",
    "\n",
    "# Save the model using pickle\n",
    "with open(\"Online_Food_Order_Prediction.pkl\", \"wb\") as f:\n",
    "    pickle.dump(modelFinal, f)\n",
    "print(\"Model saved successfully!\")"
   ]
  },
  {
   "cell_type": "code",
   "execution_count": 34,
   "id": "58b1a60d-6fd4-415e-bf8b-b463eb96dcaa",
   "metadata": {},
   "outputs": [],
   "source": [
    "# Later, you can load the model using pickle\n",
    "with open(\"Online_Food_Order_Prediction.pkl\", \"rb\") as f:\n",
    "    loaded_model = pickle.load(f)"
   ]
  },
  {
   "cell_type": "code",
   "execution_count": 24,
   "id": "541194c9-4ab0-4f75-885e-64b2212f0c07",
   "metadata": {},
   "outputs": [
    {
     "name": "stdout",
     "output_type": "stream",
     "text": [
      "['No']\n"
     ]
    },
    {
     "name": "stderr",
     "output_type": "stream",
     "text": [
      "C:\\Users\\HP\\anaconda3\\envs\\aiml\\Lib\\site-packages\\sklearn\\base.py:465: UserWarning: X does not have valid feature names, but RandomForestClassifier was fitted with feature names\n",
      "  warnings.warn(\n"
     ]
    }
   ],
   "source": [
    "#Age -> 21\n",
    "#Gender -> Male [1]\n",
    "#Marital Status -> Single [1]\n",
    "#Occupation -> Student [1]\n",
    "#Monthly Income -> No Income [0]\n",
    "#Educational Qualification -> Graduate [1]\n",
    "#Family Size -> 1\n",
    "#Feedback -> No [0]\n",
    "result = loaded_model.predict([[21, 1, 2, 1, 0, 1, 1, 0]])\n",
    "print(result)"
   ]
  },
  {
   "cell_type": "code",
   "execution_count": 35,
   "id": "4cf7831b-a0d8-4755-b5fc-cff40350e65e",
   "metadata": {},
   "outputs": [
    {
     "name": "stdout",
     "output_type": "stream",
     "text": [
      "['Yes']\n"
     ]
    },
    {
     "name": "stderr",
     "output_type": "stream",
     "text": [
      "C:\\Users\\HP\\anaconda3\\envs\\aiml\\Lib\\site-packages\\sklearn\\base.py:465: UserWarning: X does not have valid feature names, but RandomForestClassifier was fitted with feature names\n",
      "  warnings.warn(\n"
     ]
    }
   ],
   "source": [
    "#Age -> 21\n",
    "#Gender -> Male [1]\n",
    "#Marital Status -> Single [1]\n",
    "#Occupation -> Student [1]\n",
    "#Monthly Income -> No Income [0]\n",
    "#Educational Qualification -> Graduate [1]\n",
    "#Family Size -> 3\n",
    "#Feedback -> Yes [1]\n",
    "result = loaded_model.predict([[21, 1, 1, 1, 0, 1, 3, 1]])\n",
    "print(result)"
   ]
  },
  {
   "cell_type": "code",
   "execution_count": null,
   "id": "b25778dd-9651-4d53-8bec-fbb91b39576b",
   "metadata": {},
   "outputs": [],
   "source": []
  }
 ],
 "metadata": {
  "kernelspec": {
   "display_name": "Python 3 (ipykernel)",
   "language": "python",
   "name": "python3"
  },
  "language_info": {
   "codemirror_mode": {
    "name": "ipython",
    "version": 3
   },
   "file_extension": ".py",
   "mimetype": "text/x-python",
   "name": "python",
   "nbconvert_exporter": "python",
   "pygments_lexer": "ipython3",
   "version": "3.10.14"
  }
 },
 "nbformat": 4,
 "nbformat_minor": 5
}
