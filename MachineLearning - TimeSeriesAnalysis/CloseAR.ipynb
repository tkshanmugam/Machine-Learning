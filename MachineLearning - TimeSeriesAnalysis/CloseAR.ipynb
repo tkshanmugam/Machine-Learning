{
 "cells": [
  {
   "cell_type": "code",
   "execution_count": 45,
   "id": "09e6ad4a-76d9-42a6-ac40-77a1662061e8",
   "metadata": {},
   "outputs": [],
   "source": [
    "import pandas as pd"
   ]
  },
  {
   "cell_type": "code",
   "execution_count": 46,
   "id": "390d6c60-47e1-4745-9272-ca3a98a48fd6",
   "metadata": {},
   "outputs": [],
   "source": [
    "from nsepy import get_history as gh\n",
    "import datetime as dt"
   ]
  },
  {
   "cell_type": "code",
   "execution_count": 49,
   "id": "bcb5b077-a68b-43cf-9705-2a77c41824ba",
   "metadata": {},
   "outputs": [],
   "source": [
    "start = dt.datetime(2024,1,1)\n",
    "end = dt.datetime.today()"
   ]
  },
  {
   "cell_type": "code",
   "execution_count": 50,
   "id": "01fced79-590b-48b8-bc67-e0c7b5b906bc",
   "metadata": {},
   "outputs": [
    {
     "name": "stdout",
     "output_type": "stream",
     "text": [
      "No data fetched. Please check the dates and symbol.\n"
     ]
    }
   ],
   "source": [
    "try:\n",
    "    stk_data = gh(symbol='ICICIBANK', start=start, end=end)\n",
    "    if stk_data.empty:\n",
    "        print(\"No data fetched. Please check the dates and symbol.\")\n",
    "    else:\n",
    "        stk_data = stk_data[[\"Open\", \"High\", \"Low\", \"Close\"]]\n",
    "        print(stk_data.head())  # Displaying the first few rows\n",
    "except Exception as e:\n",
    "    print(f\"Error fetching data: {e}\")"
   ]
  },
  {
   "cell_type": "code",
   "execution_count": null,
   "id": "891c52fc-ed60-4a2c-a7b3-d51dfe19de23",
   "metadata": {},
   "outputs": [],
   "source": []
  }
 ],
 "metadata": {
  "kernelspec": {
   "display_name": "Python 3 (ipykernel)",
   "language": "python",
   "name": "python3"
  },
  "language_info": {
   "codemirror_mode": {
    "name": "ipython",
    "version": 3
   },
   "file_extension": ".py",
   "mimetype": "text/x-python",
   "name": "python",
   "nbconvert_exporter": "python",
   "pygments_lexer": "ipython3",
   "version": "3.10.14"
  }
 },
 "nbformat": 4,
 "nbformat_minor": 5
}
