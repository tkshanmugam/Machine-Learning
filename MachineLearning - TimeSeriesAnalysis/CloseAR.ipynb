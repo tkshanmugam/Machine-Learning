{
 "cells": [
  {
   "cell_type": "code",
   "execution_count": 76,
   "id": "09e6ad4a-76d9-42a6-ac40-77a1662061e8",
   "metadata": {},
   "outputs": [],
   "source": [
    "import pandas as pd"
   ]
  },
  {
   "cell_type": "code",
   "execution_count": 77,
   "id": "390d6c60-47e1-4745-9272-ca3a98a48fd6",
   "metadata": {},
   "outputs": [],
   "source": [
    "from nsepy import get_history as gh\n",
    "import datetime as dt"
   ]
  },
  {
   "cell_type": "code",
   "execution_count": 78,
   "id": "bcb5b077-a68b-43cf-9705-2a77c41824ba",
   "metadata": {},
   "outputs": [
    {
     "name": "stdout",
     "output_type": "stream",
     "text": [
      "2024-01-01 00:00:00\n",
      "2024-07-31 00:00:00\n"
     ]
    }
   ],
   "source": [
    "start = dt.datetime(2024,1,1)\n",
    "end= dt.datetime(2024,7,31)\n",
    "#end = dt.datetime.today()\n",
    "print(start)\n",
    "print(end)"
   ]
  },
  {
   "cell_type": "code",
   "execution_count": 79,
   "id": "01fced79-590b-48b8-bc67-e0c7b5b906bc",
   "metadata": {},
   "outputs": [
    {
     "name": "stdout",
     "output_type": "stream",
     "text": [
      "No data fetched. Please check the dates and symbol.\n"
     ]
    }
   ],
   "source": [
    "try:\n",
    "    stk_data = gh(symbol='ICICIBANK', start=start, end=end)\n",
    "    if stk_data.empty:\n",
    "        print(\"No data fetched. Please check the dates and symbol.\")\n",
    "    else:\n",
    "        stk_data = stk_data[[\"Open\", \"High\", \"Low\", \"Close\"]]\n",
    "        print(stk_data.head())  # Displaying the first few rows\n",
    "except Exception as e:\n",
    "    print(f\"Error fetching data: {e}\")"
   ]
  },
  {
   "cell_type": "code",
   "execution_count": 72,
   "id": "28709be0-2465-425c-9486-f8ac532552c2",
   "metadata": {},
   "outputs": [
    {
     "name": "stdout",
     "output_type": "stream",
     "text": [
      "Requirement already satisfied: nsepy in c:\\users\\zuyyu\\.conda\\envs\\agent_env\\lib\\site-packages (0.8)\n",
      "Requirement already satisfied: beautifulsoup4 in c:\\users\\zuyyu\\.conda\\envs\\agent_env\\lib\\site-packages (from nsepy) (4.12.3)\n",
      "Requirement already satisfied: requests in c:\\users\\zuyyu\\.conda\\envs\\agent_env\\lib\\site-packages (from nsepy) (2.32.3)\n",
      "Requirement already satisfied: numpy in c:\\users\\zuyyu\\.conda\\envs\\agent_env\\lib\\site-packages (from nsepy) (1.26.4)\n",
      "Requirement already satisfied: pandas in c:\\users\\zuyyu\\.conda\\envs\\agent_env\\lib\\site-packages (from nsepy) (2.2.2)\n",
      "Requirement already satisfied: six in c:\\users\\zuyyu\\.conda\\envs\\agent_env\\lib\\site-packages (from nsepy) (1.16.0)\n",
      "Requirement already satisfied: click in c:\\users\\zuyyu\\.conda\\envs\\agent_env\\lib\\site-packages (from nsepy) (8.1.7)\n",
      "Requirement already satisfied: lxml in c:\\users\\zuyyu\\.conda\\envs\\agent_env\\lib\\site-packages (from nsepy) (5.2.2)\n",
      "Requirement already satisfied: soupsieve>1.2 in c:\\users\\zuyyu\\.conda\\envs\\agent_env\\lib\\site-packages (from beautifulsoup4->nsepy) (2.5)\n",
      "Requirement already satisfied: colorama in c:\\users\\zuyyu\\.conda\\envs\\agent_env\\lib\\site-packages (from click->nsepy) (0.4.6)\n",
      "Requirement already satisfied: python-dateutil>=2.8.2 in c:\\users\\zuyyu\\.conda\\envs\\agent_env\\lib\\site-packages (from pandas->nsepy) (2.9.0.post0)\n",
      "Requirement already satisfied: pytz>=2020.1 in c:\\users\\zuyyu\\.conda\\envs\\agent_env\\lib\\site-packages (from pandas->nsepy) (2024.1)\n",
      "Requirement already satisfied: tzdata>=2022.7 in c:\\users\\zuyyu\\.conda\\envs\\agent_env\\lib\\site-packages (from pandas->nsepy) (2024.1)\n",
      "Requirement already satisfied: charset-normalizer<4,>=2 in c:\\users\\zuyyu\\.conda\\envs\\agent_env\\lib\\site-packages (from requests->nsepy) (3.3.2)\n",
      "Requirement already satisfied: idna<4,>=2.5 in c:\\users\\zuyyu\\.conda\\envs\\agent_env\\lib\\site-packages (from requests->nsepy) (3.7)\n",
      "Requirement already satisfied: urllib3<3,>=1.21.1 in c:\\users\\zuyyu\\.conda\\envs\\agent_env\\lib\\site-packages (from requests->nsepy) (2.2.1)\n",
      "Requirement already satisfied: certifi>=2017.4.17 in c:\\users\\zuyyu\\.conda\\envs\\agent_env\\lib\\site-packages (from requests->nsepy) (2024.2.2)\n"
     ]
    }
   ],
   "source": [
    "!pip install --upgrade nsepy"
   ]
  },
  {
   "cell_type": "code",
   "execution_count": null,
   "id": "bb1a28b4-c562-4673-be04-7213f2094e74",
   "metadata": {},
   "outputs": [],
   "source": []
  }
 ],
 "metadata": {
  "kernelspec": {
   "display_name": "Python 3 (ipykernel)",
   "language": "python",
   "name": "python3"
  },
  "language_info": {
   "codemirror_mode": {
    "name": "ipython",
    "version": 3
   },
   "file_extension": ".py",
   "mimetype": "text/x-python",
   "name": "python",
   "nbconvert_exporter": "python",
   "pygments_lexer": "ipython3",
   "version": "3.10.14"
  }
 },
 "nbformat": 4,
 "nbformat_minor": 5
}
